{
 "cells": [
  {
   "cell_type": "markdown",
   "source": [
    "# Libraries"
   ],
   "metadata": {}
  },
  {
   "cell_type": "code",
   "execution_count": 1,
   "source": [
    "import re"
   ],
   "outputs": [],
   "metadata": {}
  },
  {
   "cell_type": "markdown",
   "source": [
    "# Load article\n",
    "\n",
    "Download the text from [**here**](https://drive.google.com/file/d/1PEUMaDaPye5pxlA-SZTsnZ4k7WSzdLLe/view?usp=sharing) and load it into python using the following code snippet."
   ],
   "metadata": {}
  },
  {
   "cell_type": "code",
   "execution_count": 2,
   "source": [
    "# Load lines into list\n",
    "filename = 'Article.txt'\n",
    "with open(filename, encoding='utf-8') as f:\n",
    "    lines = f.readlines()"
   ],
   "outputs": [],
   "metadata": {}
  },
  {
   "cell_type": "markdown",
   "source": [
    "# Tasks"
   ],
   "metadata": {}
  },
  {
   "cell_type": "markdown",
   "source": [
    "### Print the first 20 lines of article"
   ],
   "metadata": {}
  },
  {
   "cell_type": "code",
   "execution_count": 6,
   "source": [
    "#\n",
    "for i in range(0, 20):\n",
    "    print(lines[i], end = '')"
   ],
   "outputs": [
    {
     "output_type": "stream",
     "name": "stdout",
     "text": [
      "How To Start When You’ve Procrastinated On Your Goals For Too Long\n",
      "\n",
      "As you are reading this, you probably have a goal on your own, that you’ve pushed, postponed, procrastinated on, and other words that start with P, for days, weeks, months, or even years.\n",
      "\n",
      "Not only that, but you’ve reached the point where even the thought of the goal, brings the feeling of having butterflies in your stomach. Demon butterflies.\n",
      "\n",
      "Hopefully, today is the day you will break the chain as well.\n",
      "\n",
      "Let me help you with that.\n",
      "\n",
      "First, the explanation.\n",
      "In the beginning, when we set the goal, we feel usually motivated, for about a day. As each additional day passes, the resistance starts to grow.\n",
      "\n",
      "As more time passes by, we feel more overwhelmed, especially if we have attempted to start several times, and failed. It stacks up, but in a wrong direction.\n",
      "\n",
      "The biggest problem in this scenario is that we think of the sheer size of the goal, or to be more accurate, the list of the activities we need to do, and how much time it will take us to do them all.\n",
      "\n",
      "We think about the big picture.\n",
      "\n",
      "There is nothing wrong with the big picture, on the contrary, we need it, but in the beginning, when it’s the planning phase.\n"
     ]
    }
   ],
   "metadata": {}
  },
  {
   "cell_type": "markdown",
   "source": [
    "## Print out every line from the file that..."
   ],
   "metadata": {}
  },
  {
   "cell_type": "markdown",
   "source": [
    "... that has 'q'"
   ],
   "metadata": {}
  },
  {
   "cell_type": "code",
   "execution_count": 15,
   "source": [
    "#\n",
    "\n",
    "for line in lines:\n",
    "    matchObject = re.search(r\"q\", line)\n",
    "    if matchObject:\n",
    "        print(line, end=\"\")"
   ],
   "outputs": [
    {
     "output_type": "stream",
     "name": "stdout",
     "text": [
      "If necessary, sacrifice the quality, and the quantity, for the sake of consistency.\n"
     ]
    }
   ],
   "metadata": {}
  },
  {
   "cell_type": "markdown",
   "source": [],
   "metadata": {}
  },
  {
   "cell_type": "markdown",
   "source": [
    "... that starts with 'H'"
   ],
   "metadata": {}
  },
  {
   "cell_type": "code",
   "execution_count": 16,
   "source": [
    "#\n",
    "for line in lines:\n",
    "    matchObject = re.search(r\"^H\", line)\n",
    "    if matchObject:\n",
    "        print(line, end=\"\")"
   ],
   "outputs": [
    {
     "output_type": "stream",
     "name": "stdout",
     "text": [
      "How To Start When You’ve Procrastinated On Your Goals For Too Long\n",
      "Hopefully, today is the day you will break the chain as well.\n"
     ]
    }
   ],
   "metadata": {}
  },
  {
   "cell_type": "markdown",
   "source": [
    "... that has 'wh'"
   ],
   "metadata": {}
  },
  {
   "cell_type": "code",
   "execution_count": 17,
   "source": [
    "#\n",
    "for line in lines:\n",
    "    matchObject = re.search(r\"wh\", line)\n",
    "    if matchObject:\n",
    "        print(line, end=\"\")"
   ],
   "outputs": [
    {
     "output_type": "stream",
     "name": "stdout",
     "text": [
      "Not only that, but you’ve reached the point where even the thought of the goal, brings the feeling of having butterflies in your stomach. Demon butterflies.\n",
      "In the beginning, when we set the goal, we feel usually motivated, for about a day. As each additional day passes, the resistance starts to grow.\n",
      "As more time passes by, we feel more overwhelmed, especially if we have attempted to start several times, and failed. It stacks up, but in a wrong direction.\n",
      "There is nothing wrong with the big picture, on the contrary, we need it, but in the beginning, when it’s the planning phase.\n",
      "To be specific, just one day ahead of you. Or, as I like to call it “A 24 Hour Life”(basically what smarter people before me said but rephrased with a cooler name, fancy, I know).\n",
      "That’s what you should do. Don’t think about the science or that you need 66 days to establish a habit, it will just overwhelm you additionally, which you don’t need.\n",
      "Look back at the previous period, and try to pinpoint the main reasons on why you procrastinated (be honest with yourself).\n",
      "Stop dragging the luggage of your past (in)actions. That’s the thing with us people; we like to beat ourselves, which additionally prevents us from taking actions.\n",
      "Remember, think just 24 hours ahead (or 18/16 depending on how much you sleep) now when I think about it, the “24-hour life” is starting to lose its meaning, but it sounds cooler than “16 Hour Life.”)\n",
      "Anyways. The moment you forgive yourself, you will feel relieved, and slowly start to regain that original motivation, or motivation 2.0 whatever you want to call it.\n",
      "Even if you still want to pursue the same goal, know that it often happens that we don’t stop and think whether or not what we are trying to achieve, actually still makes sense for us (similar to being in an unhealthy relationship just because you’ve invested too much time).\n",
      "In those 16 hours, your sole focus (when it comes to your goal), should beonly two things:\n",
      "Things you have to DO to achieve your goal (what are your most important activities that will bring most results?)\n",
      "Like slapping a muffin out of your hand (if you want to lose weight), or learning five new words in Spanish a couple of random examples here, but you get what I mean.\n",
      "Just remember every once in a while to make a pause, and evaluate your path and plan, just to make sure you are still on the right track."
     ]
    }
   ],
   "metadata": {}
  },
  {
   "cell_type": "markdown",
   "source": [
    "... that has an 'q' or a 'Q'"
   ],
   "metadata": {}
  },
  {
   "cell_type": "code",
   "execution_count": 18,
   "source": [
    "#\n",
    "\n",
    "for line in lines:\n",
    "    matchObject = re.search(r\"(q|Q)\", line)\n",
    "    if matchObject:\n",
    "        print(line, end=\"\")"
   ],
   "outputs": [
    {
     "output_type": "stream",
     "name": "stdout",
     "text": [
      "If necessary, sacrifice the quality, and the quantity, for the sake of consistency.\n",
      "If necessary, sacrifice the Quality, and the Quantity, for the sake of CONSISTENCY.\n"
     ]
    }
   ],
   "metadata": {}
  },
  {
   "cell_type": "markdown",
   "source": [
    "... that has a '*' in it"
   ],
   "metadata": {}
  },
  {
   "cell_type": "code",
   "execution_count": 19,
   "source": [
    "#\n",
    "for line in lines:\n",
    "    matchObject = re.search(r\"\\*\", line)\n",
    "    if matchObject:\n",
    "        print(line, end=\"\")"
   ],
   "outputs": [
    {
     "output_type": "stream",
     "name": "stdout",
     "text": [
      "*******************************\n",
      "Even though it’s simple, it’s not easy *.\n"
     ]
    }
   ],
   "metadata": {}
  },
  {
   "cell_type": "markdown",
   "source": [
    "... that has a '*' (star) in it"
   ],
   "metadata": {}
  },
  {
   "cell_type": "code",
   "execution_count": 25,
   "source": [
    "#\n",
    "for line in lines:\n",
    "    matchObject = re.search(r\"\\*\", line)\n",
    "    if matchObject:\n",
    "        print(line, end=\"\")"
   ],
   "outputs": [],
   "metadata": {}
  },
  {
   "cell_type": "markdown",
   "source": [
    "... that starts with an 'T' or an 't'"
   ],
   "metadata": {}
  },
  {
   "cell_type": "code",
   "execution_count": 20,
   "source": [
    "#\n",
    "for line in lines:\n",
    "    matchObject = re.search(r\"(t|T)\", line)\n",
    "    if matchObject:\n",
    "        print(line, end=\"\")"
   ],
   "outputs": [
    {
     "output_type": "stream",
     "name": "stdout",
     "text": [
      "How To Start When You’ve Procrastinated On Your Goals For Too Long\n",
      "As you are reading this, you probably have a goal on your own, that you’ve pushed, postponed, procrastinated on, and other words that start with P, for days, weeks, months, or even years.\n",
      "Not only that, but you’ve reached the point where even the thought of the goal, brings the feeling of having butterflies in your stomach. Demon butterflies.\n",
      "Hopefully, today is the day you will break the chain as well.\n",
      "Let me help you with that.\n",
      "First, the explanation.\n",
      "In the beginning, when we set the goal, we feel usually motivated, for about a day. As each additional day passes, the resistance starts to grow.\n",
      "As more time passes by, we feel more overwhelmed, especially if we have attempted to start several times, and failed. It stacks up, but in a wrong direction.\n",
      "The biggest problem in this scenario is that we think of the sheer size of the goal, or to be more accurate, the list of the activities we need to do, and how much time it will take us to do them all.\n",
      "We think about the big picture.\n",
      "There is nothing wrong with the big picture, on the contrary, we need it, but in the beginning, when it’s the planning phase.\n",
      "Immediately once the plan is finished, you should leave the big picture aside and focus on the small one.\n",
      "To be specific, just one day ahead of you. Or, as I like to call it “A 24 Hour Life”(basically what smarter people before me said but rephrased with a cooler name, fancy, I know).\n",
      "That’s what you should do. Don’t think about the science or that you need 66 days to establish a habit, it will just overwhelm you additionally, which you don’t need.\n",
      "Next, to the “ONE DAY” principle, the only other one you need is the consistency.\n",
      "If necessary, sacrifice the quality, and the quantity, for the sake of consistency.\n",
      "Let’s get down to concrete steps you can take a right this moment to take action and start working on your goal.\n",
      "1. Extract The Lessons\n",
      "Look back at the previous period, and try to pinpoint the main reasons on why you procrastinated (be honest with yourself).\n",
      "These reasons are usually internal and external.\n",
      "What I mean by this is, the excuses you give yourself (it’s hard, you don’t know how to do it, etc), and the distractions in your environment (the internet, television, people, food, and other).\n",
      "You probably know them already, but it’s good to write them down, and remind yourself.\n",
      "2. Stop Beating On Yourself\n",
      "This is more theoretical, fluffy advice, but still, makes sense.\n",
      "Stop dragging the luggage of your past (in)actions. That’s the thing with us people; we like to beat ourselves, which additionally prevents us from taking actions.\n",
      "So, drop it, and focus on using the lessons from my previous point.\n",
      "Remember, think just 24 hours ahead (or 18/16 depending on how much you sleep) now when I think about it, the “24-hour life” is starting to lose its meaning, but it sounds cooler than “16 Hour Life.”)\n",
      "Anyways. The moment you forgive yourself, you will feel relieved, and slowly start to regain that original motivation, or motivation 2.0 whatever you want to call it.\n",
      "3. Re-evaluate Your Direction\n",
      "Now that the past is behind you, you should look forward and get clarity on your direction.\n",
      "Even if you still want to pursue the same goal, know that it often happens that we don’t stop and think whether or not what we are trying to achieve, actually still makes sense for us (similar to being in an unhealthy relationship just because you’ve invested too much time).\n",
      "This is your one shot, either drop the goal altogether or leave all the excuses behind.\n",
      "Think about your biggest goal, and see if you still want to pursue it.\n",
      "If you do, write it in one sentence, and put a deadline on it.\n",
      "If not, scratch it. And think of another big goal you want to focus in the upcoming year.\n",
      "Just one goal, not five or ten. Let’s not copy-paste new years resolutions, year in-year out.\n",
      "Once you have it, you need a strategy.\n",
      "In those 16 hours, your sole focus (when it comes to your goal), should beonly two things:\n",
      "Things you have to DO to achieve your goal (what are your most important activities that will bring most results?)\n",
      "Things you have to LEARN to execute the previously defined activities\n",
      "When you determine these two points, put them in the timeline, and then…\n",
      "5. … Act\n",
      "To make sure that history doesn’t repeat itself, choose just one thing you will do today no matter how minor the activity is.\n",
      "Like slapping a muffin out of your hand (if you want to lose weight), or learning five new words in Spanish a couple of random examples here, but you get what I mean.\n",
      "I wrote this down earlier, but I will repeat it because it’s probably the most important thing you can remember from this article.\n",
      "If necessary, sacrifice the Quality, and the Quantity, for the sake of CONSISTENCY.\n",
      "Even though it’s simple, it’s not easy *.\n",
      "But, you only need to take one small step, without thinking too far ahead, and before you know it, you will reach your destination.\n",
      "Just like I did with this article. One word at the time, one bad joke at the time, and before you know it, I finished writing it, and you finished reading it.\n",
      "Now, go get it I believe in you!\n",
      "Just remember every once in a while to make a pause, and evaluate your path and plan, just to make sure you are still on the right track."
     ]
    }
   ],
   "metadata": {}
  },
  {
   "cell_type": "markdown",
   "source": [
    "... that starts with number"
   ],
   "metadata": {}
  },
  {
   "cell_type": "code",
   "execution_count": 21,
   "source": [
    "#\n",
    "for line in lines:\n",
    "    matchObject = re.search(r\"^\\d\", line)\n",
    "    if matchObject:\n",
    "        print(line, end=\"\")"
   ],
   "outputs": [
    {
     "output_type": "stream",
     "name": "stdout",
     "text": [
      "1. Extract The Lessons\n",
      "2. Stop Beating On Yourself\n",
      "3. Re-evaluate Your Direction\n",
      "4. Make A New Plan\n",
      "5. … Act\n"
     ]
    }
   ],
   "metadata": {}
  },
  {
   "cell_type": "markdown",
   "source": [
    "... that has both 'a' and 'e'  and 'i' and 'o' and 'u' in it"
   ],
   "metadata": {}
  },
  {
   "cell_type": "code",
   "execution_count": 22,
   "source": [
    "#\n",
    "for line in lines:\n",
    "    matchObject = re.search(r\"(a&e&i&o&u)\", line)\n",
    "    if matchObject:\n",
    "        print(line, end=\"\")"
   ],
   "outputs": [],
   "metadata": {}
  },
  {
   "cell_type": "markdown",
   "source": [
    "... that has an 'a' and somewhere later an 'e'"
   ],
   "metadata": {}
  },
  {
   "cell_type": "code",
   "execution_count": 23,
   "source": [
    "#\n",
    "for line in lines:\n",
    "    matchObject = re.search(r\"a.*e\", line)\n",
    "    if matchObject:\n",
    "        print(line, end=\"\")"
   ],
   "outputs": [
    {
     "output_type": "stream",
     "name": "stdout",
     "text": [
      "How To Start When You’ve Procrastinated On Your Goals For Too Long\n",
      "As you are reading this, you probably have a goal on your own, that you’ve pushed, postponed, procrastinated on, and other words that start with P, for days, weeks, months, or even years.\n",
      "Not only that, but you’ve reached the point where even the thought of the goal, brings the feeling of having butterflies in your stomach. Demon butterflies.\n",
      "Hopefully, today is the day you will break the chain as well.\n",
      "In the beginning, when we set the goal, we feel usually motivated, for about a day. As each additional day passes, the resistance starts to grow.\n",
      "As more time passes by, we feel more overwhelmed, especially if we have attempted to start several times, and failed. It stacks up, but in a wrong direction.\n",
      "The biggest problem in this scenario is that we think of the sheer size of the goal, or to be more accurate, the list of the activities we need to do, and how much time it will take us to do them all.\n",
      "We think about the big picture.\n",
      "There is nothing wrong with the big picture, on the contrary, we need it, but in the beginning, when it’s the planning phase.\n",
      "Immediately once the plan is finished, you should leave the big picture aside and focus on the small one.\n",
      "To be specific, just one day ahead of you. Or, as I like to call it “A 24 Hour Life”(basically what smarter people before me said but rephrased with a cooler name, fancy, I know).\n",
      "That’s what you should do. Don’t think about the science or that you need 66 days to establish a habit, it will just overwhelm you additionally, which you don’t need.\n",
      "If necessary, sacrifice the quality, and the quantity, for the sake of consistency.\n",
      "Let’s get down to concrete steps you can take a right this moment to take action and start working on your goal.\n",
      "1. Extract The Lessons\n",
      "Look back at the previous period, and try to pinpoint the main reasons on why you procrastinated (be honest with yourself).\n",
      "These reasons are usually internal and external.\n",
      "What I mean by this is, the excuses you give yourself (it’s hard, you don’t know how to do it, etc), and the distractions in your environment (the internet, television, people, food, and other).\n",
      "You probably know them already, but it’s good to write them down, and remind yourself.\n",
      "2. Stop Beating On Yourself\n",
      "This is more theoretical, fluffy advice, but still, makes sense.\n",
      "Stop dragging the luggage of your past (in)actions. That’s the thing with us people; we like to beat ourselves, which additionally prevents us from taking actions.\n",
      "So, drop it, and focus on using the lessons from my previous point.\n",
      "Remember, think just 24 hours ahead (or 18/16 depending on how much you sleep) now when I think about it, the “24-hour life” is starting to lose its meaning, but it sounds cooler than “16 Hour Life.”)\n",
      "Anyways. The moment you forgive yourself, you will feel relieved, and slowly start to regain that original motivation, or motivation 2.0 whatever you want to call it.\n",
      "3. Re-evaluate Your Direction\n",
      "Now that the past is behind you, you should look forward and get clarity on your direction.\n",
      "Even if you still want to pursue the same goal, know that it often happens that we don’t stop and think whether or not what we are trying to achieve, actually still makes sense for us (similar to being in an unhealthy relationship just because you’ve invested too much time).\n",
      "This is your one shot, either drop the goal altogether or leave all the excuses behind.\n",
      "Think about your biggest goal, and see if you still want to pursue it.\n",
      "If you do, write it in one sentence, and put a deadline on it.\n",
      "If not, scratch it. And think of another big goal you want to focus in the upcoming year.\n",
      "Just one goal, not five or ten. Let’s not copy-paste new years resolutions, year in-year out.\n",
      "Once you have it, you need a strategy.\n",
      "4. Make A New Plan\n",
      "In those 16 hours, your sole focus (when it comes to your goal), should beonly two things:\n",
      "Things you have to DO to achieve your goal (what are your most important activities that will bring most results?)\n",
      "Things you have to LEARN to execute the previously defined activities\n",
      "When you determine these two points, put them in the timeline, and then…\n",
      "To make sure that history doesn’t repeat itself, choose just one thing you will do today no matter how minor the activity is.\n",
      "Like slapping a muffin out of your hand (if you want to lose weight), or learning five new words in Spanish a couple of random examples here, but you get what I mean.\n",
      "I wrote this down earlier, but I will repeat it because it’s probably the most important thing you can remember from this article.\n",
      "If necessary, sacrifice the Quality, and the Quantity, for the sake of CONSISTENCY.\n",
      "But, you only need to take one small step, without thinking too far ahead, and before you know it, you will reach your destination.\n",
      "Just like I did with this article. One word at the time, one bad joke at the time, and before you know it, I finished writing it, and you finished reading it.\n",
      "Just remember every once in a while to make a pause, and evaluate your path and plan, just to make sure you are still on the right track."
     ]
    }
   ],
   "metadata": {}
  },
  {
   "cell_type": "markdown",
   "source": [
    "... that does not have an 'i'"
   ],
   "metadata": {}
  },
  {
   "cell_type": "code",
   "execution_count": 24,
   "source": [
    "#\n",
    "for line in lines:\n",
    "    matchObject = re.search(r\"i\", line)\n",
    "    if not matchObject:\n",
    "        print(line, end=\"\")"
   ],
   "outputs": [
    {
     "output_type": "stream",
     "name": "stdout",
     "text": [
      "\n",
      "\n",
      "\n",
      "\n",
      "\n",
      "\n",
      "\n",
      "\n",
      "\n",
      "\n",
      "\n",
      "\n",
      "\n",
      "\n",
      "\n",
      "1. Extract The Lessons\n",
      "*******************************\n",
      "\n",
      "\n",
      "\n",
      "\n",
      "\n",
      "\n",
      "\n",
      "\n",
      "\n",
      "\n",
      "\n",
      "\n",
      "\n",
      "\n",
      "\n",
      "\n",
      "\n",
      "4. Make A New Plan\n",
      "\n",
      "\n",
      "5. … Act\n",
      "\n",
      "\n",
      "\n",
      "\n",
      "\n",
      "\n"
     ]
    }
   ],
   "metadata": {}
  },
  {
   "cell_type": "markdown",
   "source": [
    "... that does not have an 'i' nor 'z'"
   ],
   "metadata": {}
  },
  {
   "cell_type": "code",
   "execution_count": 26,
   "source": [
    "#\n",
    "for line in lines:\n",
    "    matchObject = re.search(r\"i\", line)\n",
    "    matchObject2 = re.search(r\"z\", line)\n",
    "    if not matchObject and not matchObject2:\n",
    "        print(line, end=\"\")"
   ],
   "outputs": [
    {
     "output_type": "stream",
     "name": "stdout",
     "text": [
      "\n",
      "\n",
      "\n",
      "\n",
      "\n",
      "\n",
      "\n",
      "\n",
      "\n",
      "\n",
      "\n",
      "\n",
      "\n",
      "\n",
      "\n",
      "1. Extract The Lessons\n",
      "*******************************\n",
      "\n",
      "\n",
      "\n",
      "\n",
      "\n",
      "\n",
      "\n",
      "\n",
      "\n",
      "\n",
      "\n",
      "\n",
      "\n",
      "\n",
      "\n",
      "\n",
      "\n",
      "4. Make A New Plan\n",
      "\n",
      "\n",
      "5. … Act\n",
      "\n",
      "\n",
      "\n",
      "\n",
      "\n",
      "\n"
     ]
    }
   ],
   "metadata": {}
  },
  {
   "cell_type": "markdown",
   "source": [
    "... that has an 'x' but not 'y'"
   ],
   "metadata": {}
  },
  {
   "cell_type": "code",
   "execution_count": 27,
   "source": [
    "#\n",
    "for line in lines:\n",
    "    matchObject = re.search(r\"x\", line)\n",
    "    matchObject2 = re.search(r\"y\", line)\n",
    "    if matchObject and not matchObject2:\n",
    "        print(line, end=\"\")"
   ],
   "outputs": [
    {
     "output_type": "stream",
     "name": "stdout",
     "text": [
      "First, the explanation.\n",
      "1. Extract The Lessons\n"
     ]
    }
   ],
   "metadata": {}
  },
  {
   "cell_type": "markdown",
   "source": [
    "... that has at least 2 consecutive vowels (a, e, i, o, u) like in the word \"bear\""
   ],
   "metadata": {}
  },
  {
   "cell_type": "code",
   "execution_count": 29,
   "source": [
    "#\n",
    "for line in lines:\n",
    "    matchObject = re.search(r\"[aeiou]{2}\", line)\n",
    "    if matchObject:\n",
    "        print(line, end=\"\")"
   ],
   "outputs": [
    {
     "output_type": "stream",
     "name": "stdout",
     "text": [
      "How To Start When You’ve Procrastinated On Your Goals For Too Long\n",
      "As you are reading this, you probably have a goal on your own, that you’ve pushed, postponed, procrastinated on, and other words that start with P, for days, weeks, months, or even years.\n",
      "Not only that, but you’ve reached the point where even the thought of the goal, brings the feeling of having butterflies in your stomach. Demon butterflies.\n",
      "Hopefully, today is the day you will break the chain as well.\n",
      "Let me help you with that.\n",
      "First, the explanation.\n",
      "In the beginning, when we set the goal, we feel usually motivated, for about a day. As each additional day passes, the resistance starts to grow.\n",
      "As more time passes by, we feel more overwhelmed, especially if we have attempted to start several times, and failed. It stacks up, but in a wrong direction.\n",
      "The biggest problem in this scenario is that we think of the sheer size of the goal, or to be more accurate, the list of the activities we need to do, and how much time it will take us to do them all.\n",
      "We think about the big picture.\n",
      "There is nothing wrong with the big picture, on the contrary, we need it, but in the beginning, when it’s the planning phase.\n",
      "Immediately once the plan is finished, you should leave the big picture aside and focus on the small one.\n",
      "To be specific, just one day ahead of you. Or, as I like to call it “A 24 Hour Life”(basically what smarter people before me said but rephrased with a cooler name, fancy, I know).\n",
      "That’s what you should do. Don’t think about the science or that you need 66 days to establish a habit, it will just overwhelm you additionally, which you don’t need.\n",
      "Next, to the “ONE DAY” principle, the only other one you need is the consistency.\n",
      "If necessary, sacrifice the quality, and the quantity, for the sake of consistency.\n",
      "Let’s get down to concrete steps you can take a right this moment to take action and start working on your goal.\n",
      "Look back at the previous period, and try to pinpoint the main reasons on why you procrastinated (be honest with yourself).\n",
      "These reasons are usually internal and external.\n",
      "What I mean by this is, the excuses you give yourself (it’s hard, you don’t know how to do it, etc), and the distractions in your environment (the internet, television, people, food, and other).\n",
      "You probably know them already, but it’s good to write them down, and remind yourself.\n",
      "2. Stop Beating On Yourself\n",
      "This is more theoretical, fluffy advice, but still, makes sense.\n",
      "Stop dragging the luggage of your past (in)actions. That’s the thing with us people; we like to beat ourselves, which additionally prevents us from taking actions.\n",
      "So, drop it, and focus on using the lessons from my previous point.\n",
      "Remember, think just 24 hours ahead (or 18/16 depending on how much you sleep) now when I think about it, the “24-hour life” is starting to lose its meaning, but it sounds cooler than “16 Hour Life.”)\n",
      "Anyways. The moment you forgive yourself, you will feel relieved, and slowly start to regain that original motivation, or motivation 2.0 whatever you want to call it.\n",
      "3. Re-evaluate Your Direction\n",
      "Now that the past is behind you, you should look forward and get clarity on your direction.\n",
      "Even if you still want to pursue the same goal, know that it often happens that we don’t stop and think whether or not what we are trying to achieve, actually still makes sense for us (similar to being in an unhealthy relationship just because you’ve invested too much time).\n",
      "This is your one shot, either drop the goal altogether or leave all the excuses behind.\n",
      "Think about your biggest goal, and see if you still want to pursue it.\n",
      "If you do, write it in one sentence, and put a deadline on it.\n",
      "If not, scratch it. And think of another big goal you want to focus in the upcoming year.\n",
      "Just one goal, not five or ten. Let’s not copy-paste new years resolutions, year in-year out.\n",
      "Once you have it, you need a strategy.\n",
      "In those 16 hours, your sole focus (when it comes to your goal), should beonly two things:\n",
      "Things you have to DO to achieve your goal (what are your most important activities that will bring most results?)\n",
      "Things you have to LEARN to execute the previously defined activities\n",
      "When you determine these two points, put them in the timeline, and then…\n",
      "To make sure that history doesn’t repeat itself, choose just one thing you will do today no matter how minor the activity is.\n",
      "Like slapping a muffin out of your hand (if you want to lose weight), or learning five new words in Spanish a couple of random examples here, but you get what I mean.\n",
      "I wrote this down earlier, but I will repeat it because it’s probably the most important thing you can remember from this article.\n",
      "If necessary, sacrifice the Quality, and the Quantity, for the sake of CONSISTENCY.\n",
      "Even though it’s simple, it’s not easy *.\n",
      "But, you only need to take one small step, without thinking too far ahead, and before you know it, you will reach your destination.\n",
      "Just like I did with this article. One word at the time, one bad joke at the time, and before you know it, I finished writing it, and you finished reading it.\n",
      "Now, go get it I believe in you!\n",
      "Just remember every once in a while to make a pause, and evaluate your path and plan, just to make sure you are still on the right track."
     ]
    }
   ],
   "metadata": {}
  },
  {
   "cell_type": "markdown",
   "source": [
    "... that has at least 3 vowels"
   ],
   "metadata": {}
  },
  {
   "cell_type": "code",
   "execution_count": 30,
   "source": [
    "#\n",
    "for line in lines:\n",
    "    matchObject = re.search(r\"[aeiou]{3}\", line)\n",
    "    if matchObject:\n",
    "        print(line, end=\"\")"
   ],
   "outputs": [
    {
     "output_type": "stream",
     "name": "stdout",
     "text": [
      "Look back at the previous period, and try to pinpoint the main reasons on why you procrastinated (be honest with yourself).\n",
      "So, drop it, and focus on using the lessons from my previous point.\n",
      "Things you have to LEARN to execute the previously defined activities\n"
     ]
    }
   ],
   "metadata": {}
  },
  {
   "cell_type": "markdown",
   "source": [
    "... that has at least 30 characters"
   ],
   "metadata": {}
  },
  {
   "cell_type": "code",
   "execution_count": 33,
   "source": [
    "#\n",
    "for line in lines:\n",
    "    matchObject = re.search(r\".{30,}\", line)\n",
    "    if matchObject:\n",
    "        print(line, end=\"\")"
   ],
   "outputs": [
    {
     "output_type": "stream",
     "name": "stdout",
     "text": [
      "How To Start When You’ve Procrastinated On Your Goals For Too Long\n",
      "As you are reading this, you probably have a goal on your own, that you’ve pushed, postponed, procrastinated on, and other words that start with P, for days, weeks, months, or even years.\n",
      "Not only that, but you’ve reached the point where even the thought of the goal, brings the feeling of having butterflies in your stomach. Demon butterflies.\n",
      "Hopefully, today is the day you will break the chain as well.\n",
      "In the beginning, when we set the goal, we feel usually motivated, for about a day. As each additional day passes, the resistance starts to grow.\n",
      "As more time passes by, we feel more overwhelmed, especially if we have attempted to start several times, and failed. It stacks up, but in a wrong direction.\n",
      "The biggest problem in this scenario is that we think of the sheer size of the goal, or to be more accurate, the list of the activities we need to do, and how much time it will take us to do them all.\n",
      "We think about the big picture.\n",
      "There is nothing wrong with the big picture, on the contrary, we need it, but in the beginning, when it’s the planning phase.\n",
      "Immediately once the plan is finished, you should leave the big picture aside and focus on the small one.\n",
      "To be specific, just one day ahead of you. Or, as I like to call it “A 24 Hour Life”(basically what smarter people before me said but rephrased with a cooler name, fancy, I know).\n",
      "That’s what you should do. Don’t think about the science or that you need 66 days to establish a habit, it will just overwhelm you additionally, which you don’t need.\n",
      "Next, to the “ONE DAY” principle, the only other one you need is the consistency.\n",
      "If necessary, sacrifice the quality, and the quantity, for the sake of consistency.\n",
      "Let’s get down to concrete steps you can take a right this moment to take action and start working on your goal.\n",
      "*******************************\n",
      "Look back at the previous period, and try to pinpoint the main reasons on why you procrastinated (be honest with yourself).\n",
      "These reasons are usually internal and external.\n",
      "What I mean by this is, the excuses you give yourself (it’s hard, you don’t know how to do it, etc), and the distractions in your environment (the internet, television, people, food, and other).\n",
      "You probably know them already, but it’s good to write them down, and remind yourself.\n",
      "This is more theoretical, fluffy advice, but still, makes sense.\n",
      "Stop dragging the luggage of your past (in)actions. That’s the thing with us people; we like to beat ourselves, which additionally prevents us from taking actions.\n",
      "So, drop it, and focus on using the lessons from my previous point.\n",
      "Remember, think just 24 hours ahead (or 18/16 depending on how much you sleep) now when I think about it, the “24-hour life” is starting to lose its meaning, but it sounds cooler than “16 Hour Life.”)\n",
      "Anyways. The moment you forgive yourself, you will feel relieved, and slowly start to regain that original motivation, or motivation 2.0 whatever you want to call it.\n",
      "Now that the past is behind you, you should look forward and get clarity on your direction.\n",
      "Even if you still want to pursue the same goal, know that it often happens that we don’t stop and think whether or not what we are trying to achieve, actually still makes sense for us (similar to being in an unhealthy relationship just because you’ve invested too much time).\n",
      "This is your one shot, either drop the goal altogether or leave all the excuses behind.\n",
      "Think about your biggest goal, and see if you still want to pursue it.\n",
      "If you do, write it in one sentence, and put a deadline on it.\n",
      "If not, scratch it. And think of another big goal you want to focus in the upcoming year.\n",
      "Just one goal, not five or ten. Let’s not copy-paste new years resolutions, year in-year out.\n",
      "Once you have it, you need a strategy.\n",
      "In those 16 hours, your sole focus (when it comes to your goal), should beonly two things:\n",
      "Things you have to DO to achieve your goal (what are your most important activities that will bring most results?)\n",
      "Things you have to LEARN to execute the previously defined activities\n",
      "When you determine these two points, put them in the timeline, and then…\n",
      "To make sure that history doesn’t repeat itself, choose just one thing you will do today no matter how minor the activity is.\n",
      "Like slapping a muffin out of your hand (if you want to lose weight), or learning five new words in Spanish a couple of random examples here, but you get what I mean.\n",
      "I wrote this down earlier, but I will repeat it because it’s probably the most important thing you can remember from this article.\n",
      "If necessary, sacrifice the Quality, and the Quantity, for the sake of CONSISTENCY.\n",
      "Even though it’s simple, it’s not easy *.\n",
      "But, you only need to take one small step, without thinking too far ahead, and before you know it, you will reach your destination.\n",
      "Just like I did with this article. One word at the time, one bad joke at the time, and before you know it, I finished writing it, and you finished reading it.\n",
      "Now, go get it I believe in you!\n",
      "Just remember every once in a while to make a pause, and evaluate your path and plan, just to make sure you are still on the right track."
     ]
    }
   ],
   "metadata": {}
  },
  {
   "cell_type": "markdown",
   "source": [
    "... has the same word appear twice in the same line"
   ],
   "metadata": {}
  },
  {
   "cell_type": "code",
   "execution_count": 42,
   "source": [
    "#\n",
    "for line in lines:\n",
    "    matchObject = re.search(r\"\\b(\\w+)\\s\\1\", line)\n",
    "    if matchObject:\n",
    "        print(line, end=\"\")"
   ],
   "outputs": [
    {
     "output_type": "stream",
     "name": "stdout",
     "text": [
      "That’s what you should do. Don’t think about the science or that you need 66 days to establish a habit, it will just overwhelm you additionally, which you don’t need.\n",
      "Even though it’s simple, it’s not easy *.\n"
     ]
    }
   ],
   "metadata": {}
  },
  {
   "cell_type": "markdown",
   "source": [
    "## Print all the words"
   ],
   "metadata": {}
  },
  {
   "cell_type": "markdown",
   "source": [
    "Words with either 'Bar' or 'Baz' in them"
   ],
   "metadata": {}
  },
  {
   "cell_type": "code",
   "execution_count": 49,
   "source": [
    "#\n",
    "fullString = str(lines)\n",
    "re.findall(r\"(\\b\\w*bar\\w*\\b|b\\w*baz\\w*\\b)\", fullString)"
   ],
   "outputs": [
    {
     "output_type": "execute_result",
     "data": {
      "text/plain": [
       "[]"
      ]
     },
     "metadata": {},
     "execution_count": 49
    }
   ],
   "metadata": {}
  },
  {
   "cell_type": "markdown",
   "source": [
    "Words with either 'Whe' or 'The' in them"
   ],
   "metadata": {}
  },
  {
   "cell_type": "code",
   "execution_count": 58,
   "source": [
    "#\n",
    "fullString = str(lines)\n",
    "print(re.findall(r\"\\b\\w*The\\w*\\b\", fullString))\n",
    "re.findall(r\"\\b\\w*Whe\\w*\\b\", fullString)"
   ],
   "outputs": [
    {
     "output_type": "stream",
     "name": "stdout",
     "text": [
      "['The', 'There', 'The', 'These', 'The']\n"
     ]
    },
    {
     "output_type": "execute_result",
     "data": {
      "text/plain": [
       "['When', 'When']"
      ]
     },
     "metadata": {},
     "execution_count": 58
    }
   ],
   "metadata": {}
  },
  {
   "cell_type": "markdown",
   "source": [
    "Words containing a double character (e.g. 'oo')"
   ],
   "metadata": {}
  },
  {
   "cell_type": "code",
   "execution_count": 86,
   "source": [
    "#\n",
    "fullString = str(lines)\n",
    "finditer = re.finditer(r\"[A-Za-z]*([a-z])\\1[a-z]*\", fullString, re.MULTILINE)\n",
    "print()\n",
    "for item in finditer:\n",
    "    print(item.group(0))"
   ],
   "outputs": [
    {
     "output_type": "stream",
     "name": "stdout",
     "text": [
      "\n",
      "Too\n",
      "weeks\n",
      "feeling\n",
      "butterflies\n",
      "butterflies\n",
      "Hopefully\n",
      "will\n",
      "well\n",
      "beginning\n",
      "feel\n",
      "usually\n",
      "additional\n",
      "passes\n",
      "passes\n",
      "feel\n",
      "especially\n",
      "attempted\n",
      "biggest\n",
      "sheer\n",
      "accurate\n",
      "need\n",
      "will\n",
      "all\n",
      "need\n",
      "beginning\n",
      "planning\n",
      "Immediately\n",
      "small\n",
      "call\n",
      "basically\n",
      "cooler\n",
      "need\n",
      "will\n",
      "additionally\n",
      "need\n",
      "need\n",
      "necessary\n",
      "Lessons\n",
      "Look\n",
      "usually\n",
      "food\n",
      "good\n",
      "fluffy\n",
      "still\n",
      "dragging\n",
      "luggage\n",
      "additionally\n",
      "lessons\n",
      "sleep\n",
      "cooler\n",
      "will\n",
      "feel\n",
      "call\n",
      "look\n",
      "still\n",
      "happens\n",
      "actually\n",
      "still\n",
      "too\n",
      "all\n",
      "biggest\n",
      "see\n",
      "still\n",
      "need\n",
      "will\n",
      "choose\n",
      "will\n",
      "matter\n",
      "slapping\n",
      "muffin\n",
      "will\n",
      "necessary\n",
      "need\n",
      "small\n",
      "too\n",
      "will\n",
      "still\n"
     ]
    }
   ],
   "metadata": {}
  },
  {
   "cell_type": "markdown",
   "source": [
    "## Cleanup string codes so they contain only numbers\n",
    "* Remove slash and spaces"
   ],
   "metadata": {}
  },
  {
   "cell_type": "code",
   "execution_count": 92,
   "source": [
    "codes = ['2373/ 8293', \n",
    "         ' 8292342 / 8263', \n",
    "         '12/903820 ',\n",
    "         '8203184 / 02342 ']\n",
    "\n",
    "#\n",
    "for code in codes:\n",
    "    print (re.sub(r\"\\s?/?\\s?\", '', code))"
   ],
   "outputs": [
    {
     "output_type": "stream",
     "name": "stdout",
     "text": [
      "23738293\n",
      "82923428263\n",
      "12903820\n",
      "820318402342\n"
     ]
    }
   ],
   "metadata": {}
  },
  {
   "cell_type": "markdown",
   "source": [
    "## Switch order of the numbers in string\n",
    "* Preserve slash /\n",
    "* Remove spaces"
   ],
   "metadata": {}
  },
  {
   "cell_type": "code",
   "execution_count": 98,
   "source": [
    "codes = ['2373/ 8293', \n",
    "         ' 8292342 / 8263', \n",
    "         '12/903820 ',\n",
    "         '8203184 / 02342 ']\n",
    "for code in codes:\n",
    "    print(re.sub(r\"\\s?(\\d+)\\s?/\\s?(\\d+)\", r\"\\2/\\1\" ,code))\n",
    "#"
   ],
   "outputs": [
    {
     "output_type": "stream",
     "name": "stdout",
     "text": [
      "8293/2373\n",
      "8263/8292342\n",
      "903820/12 \n",
      "02342/8203184 \n"
     ]
    }
   ],
   "metadata": {}
  }
 ],
 "metadata": {
  "kernelspec": {
   "name": "python3",
   "display_name": "Python 3.8.11 64-bit ('bootcampEnv': conda)"
  },
  "language_info": {
   "codemirror_mode": {
    "name": "ipython",
    "version": 3
   },
   "file_extension": ".py",
   "mimetype": "text/x-python",
   "name": "python",
   "nbconvert_exporter": "python",
   "pygments_lexer": "ipython3",
   "version": "3.8.11"
  },
  "interpreter": {
   "hash": "79faa05e2dc1800474c2bdfc1218bc1d5ab8e508bccf9d704995f444943439c7"
  }
 },
 "nbformat": 4,
 "nbformat_minor": 4
}