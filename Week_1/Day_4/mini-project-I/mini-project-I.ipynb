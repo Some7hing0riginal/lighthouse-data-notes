{
 "cells": [
  {
   "cell_type": "markdown",
   "source": [
    "# Mini-Project I\n",
    "During this project, we will practice handling of complex lists and dictionaries in Python. Plus, we will learn how to work with API documentation. Don't be afraid to search for the information in the [**documentation**](https://api.tfl.gov.uk/swagger/ui/index.html?url=/swagger/docs/v1#!/AccidentStats/AccidentStats_Get).\n",
    "\n",
    "Let's go to the tasks, we have some parsing to do :)!!"
   ],
   "metadata": {}
  },
  {
   "cell_type": "code",
   "execution_count": null,
   "source": [],
   "outputs": [],
   "metadata": {}
  },
  {
   "cell_type": "code",
   "execution_count": 1,
   "source": [
    "# import packages we need (remember what packages we used yesterday during the API session)\n",
    "# IMPORT HERE\n",
    "import os\n",
    "import requests"
   ],
   "outputs": [],
   "metadata": {}
  },
  {
   "cell_type": "code",
   "execution_count": null,
   "source": [],
   "outputs": [],
   "metadata": {}
  },
  {
   "cell_type": "code",
   "execution_count": null,
   "source": [],
   "outputs": [],
   "metadata": {}
  },
  {
   "cell_type": "markdown",
   "source": [
    "## Demo"
   ],
   "metadata": {}
  },
  {
   "cell_type": "code",
   "execution_count": 2,
   "source": [
    "# don't forget package os\n",
    "app_id = os.environ[\"app_id\"]\n",
    "app_key = os.environ[\"app_key\"]\n",
    "url_append = f'?app_id={app_id}&app_key={app_key}' "
   ],
   "outputs": [],
   "metadata": {}
  },
  {
   "cell_type": "code",
   "execution_count": 3,
   "source": [
    "print(url_append)"
   ],
   "outputs": [
    {
     "output_type": "stream",
     "name": "stdout",
     "text": [
      "?app_id=appid&app_key=appkey\n"
     ]
    }
   ],
   "metadata": {}
  },
  {
   "cell_type": "code",
   "execution_count": 4,
   "source": [
    "# URL\n",
    "url = \"https://api.tfl.gov.uk/AirQuality\""
   ],
   "outputs": [],
   "metadata": {}
  },
  {
   "cell_type": "code",
   "execution_count": 5,
   "source": [
    "# We send the request to the API\n",
    "# NOTE: if you don't have your APP_KEY, run this without the url_append\n",
    "res = requests.get(url)"
   ],
   "outputs": [],
   "metadata": {}
  },
  {
   "cell_type": "code",
   "execution_count": 6,
   "source": [
    "# We can check if the request was successful\n",
    "res.status_code"
   ],
   "outputs": [
    {
     "output_type": "execute_result",
     "data": {
      "text/plain": [
       "200"
      ]
     },
     "metadata": {},
     "execution_count": 6
    }
   ],
   "metadata": {}
  },
  {
   "cell_type": "code",
   "execution_count": 7,
   "source": [
    "# We can export the information that was returned using method .json()\n",
    "json_response = res.json()"
   ],
   "outputs": [],
   "metadata": {}
  },
  {
   "cell_type": "code",
   "execution_count": 8,
   "source": [
    "def makeRequest(url):\n",
    "    # don't forget package os\n",
    "    #app_id = os.environ[\"app_id\"]\n",
    "    #app_key = os.environ[\"app_key\"]\n",
    "    #url_append = f'?app_id={app_id}&app_key={app_key}' \n",
    "\n",
    "\n",
    "    # We send the request to the API\n",
    "    # NOTE: if you don't have your APP_KEY, run this without the url_append\n",
    "    res = requests.get(url)\n",
    "\n",
    "    # We can check if the request was successful\n",
    "    if res.status_code != 200 and res.status_code != 300:\n",
    "        print(f\"Unsuccessful request. Error code {res.status_code}\")\n",
    "        return res.status_code\n",
    "    else:\n",
    "        return res"
   ],
   "outputs": [],
   "metadata": {}
  },
  {
   "cell_type": "markdown",
   "source": [
    "## Task\n",
    "Parse the dictionary and print the AirQuality predictions for tomorrow"
   ],
   "metadata": {}
  },
  {
   "cell_type": "code",
   "execution_count": 11,
   "source": [
    "import html\n",
    "futureForecast = json_response[\"currentForecast\"][1]\n",
    "forecastText = html.unescape(futureForecast[\"forecastText\"])\n",
    "formattedForecastText = forecastText.replace(r'<br/>', '\\n')\n",
    "print(formattedForecastText)"
   ],
   "outputs": [
    {
     "output_type": "stream",
     "name": "stdout",
     "text": [
      "Partly sunny with showers on Saturday.\n",
      "\n",
      "A light south or south easterly breeze is expected. This airflow will have travelled over the near continent and at times will have passed over the Paris region. It's likely to contain some particulates and as a result both PM10 & PM2.5 particulates may increase during the day. It's not expected currently that particulate concentrations will reach the 'moderate' pollution threshold.\n",
      "\n",
      "Air pollution is expected to remain 'Low' during the forecast period for the following pollutants.\n",
      "\n",
      "Nitrogen Dioxide\n",
      "Sulphur Dioxide\n",
      "Ozone\n",
      "PM10 Particulates\n",
      "PM2.5 Particulates\n",
      "\n"
     ]
    }
   ],
   "metadata": {}
  },
  {
   "cell_type": "code",
   "execution_count": null,
   "source": [],
   "outputs": [],
   "metadata": {}
  },
  {
   "cell_type": "markdown",
   "source": [
    "## Task\n",
    "What are the different modes of transport which are operated by Transfer for London? How many of modes do they have?\n",
    "\n",
    "Print the list with different modes of transport, plus their count. Example output:\n",
    "```\n",
    "[bus, cable-car,.....]\n",
    "Number of different modes of transport is: xyz\n",
    "```\n",
    "\n",
    "We need to search the documentation for correct request."
   ],
   "metadata": {}
  },
  {
   "cell_type": "code",
   "execution_count": 15,
   "source": [
    "#res = makeRequest(\"https://api.tfl.gov.uk/Line/Meta/Modes\")\n",
    "res = makeRequest(\"https://api.tfl.gov.uk/Journey/Meta/Modes\")\n",
    "\n",
    "json_response = res.json()\n",
    "\n",
    "#print(json.dumps(json_response))\n",
    "tflModesList = [mode[\"modeName\"] for mode in json_response if mode[\"isTflService\"]]\n",
    "\n",
    "print(tflModesList)\n",
    "print(f\"The number of different modes of transport is {len(tflModesList)}\")"
   ],
   "outputs": [
    {
     "output_type": "stream",
     "name": "stdout",
     "text": [
      "['bus', 'cable-car', 'cycle-hire', 'dlr', 'overground', 'replacement-bus', 'river-bus', 'river-tour', 'tflrail', 'tram', 'tube']\n",
      "The number of different modes of transport is 11\n"
     ]
    }
   ],
   "metadata": {}
  },
  {
   "cell_type": "code",
   "execution_count": null,
   "source": [],
   "outputs": [],
   "metadata": {}
  },
  {
   "cell_type": "markdown",
   "source": [
    "## Task\n",
    "How many BikePoints in London are operated by Transfor for London? How many docks are in **all** BikePoints? There is the information for empty and full docks for each BikePoint."
   ],
   "metadata": {}
  },
  {
   "cell_type": "code",
   "execution_count": 16,
   "source": [
    "res = makeRequest(\"https://api.tfl.gov.uk/BikePoint\")\n",
    "json_response = res.json()\n",
    "\n",
    "#with open('responseBikePoints.json', 'w') as outfile:\n",
    "#    json.dump(json_response, outfile)\n",
    "\n",
    "sumOfWorkingDocks = 0\n",
    "sumOfTotalDocks = 0\n",
    "for bikepoint in json_response:\n",
    "    nbBikes = int(bikepoint[\"additionalProperties\"][6][\"value\"])\n",
    "    nbEmptyDocks = int(bikepoint[\"additionalProperties\"][7][\"value\"])\n",
    "    sumOfWorkingDocks += nbBikes + nbEmptyDocks\n",
    "    sumOfTotalDocks += int(bikepoint[\"additionalProperties\"][8][\"value\"])\n",
    "\n",
    "print()\n",
    "print(f\"There are a total of {len(json_response)} BikePoints\")\n",
    "print(f\"There are a total of {sumOfWorkingDocks} working docks\")\n",
    "print(f\"There are a total of {sumOfTotalDocks} all docks\")"
   ],
   "outputs": [
    {
     "output_type": "stream",
     "name": "stdout",
     "text": [
      "\n",
      "There are a total of 786 BikePoints\n",
      "There are a total of 19867 working docks\n",
      "There are a total of 20860 all docks\n"
     ]
    }
   ],
   "metadata": {}
  },
  {
   "cell_type": "code",
   "execution_count": null,
   "source": [],
   "outputs": [],
   "metadata": {}
  },
  {
   "cell_type": "markdown",
   "source": [
    "## Task\n",
    "How many tube and bus lines are in London? Print names of all tube lines."
   ],
   "metadata": {}
  },
  {
   "cell_type": "code",
   "execution_count": 18,
   "source": [
    "res = makeRequest(\"https://api.tfl.gov.uk/Line/Mode/tube\")\n",
    "tubelines = res.json()\n",
    "\n",
    "res = makeRequest(\"https://api.tfl.gov.uk/Line/Mode/bus\")\n",
    "buslines = res.json()\n",
    "\n",
    "\n",
    "print()\n",
    "print(f\"Total of {len(tubelines)} tube lines and {len(buslines)} bus lines\")\n",
    "print([line[\"name\"] for line in tubelines])"
   ],
   "outputs": [
    {
     "output_type": "stream",
     "name": "stdout",
     "text": [
      "\n",
      "Total of 11 tube lines and 677 bus lines\n",
      "['Bakerloo', 'Central', 'Circle', 'District', 'Hammersmith & City', 'Jubilee', 'Metropolitan', 'Northern', 'Piccadilly', 'Victoria', 'Waterloo & City']\n",
      "\n"
     ]
    }
   ],
   "metadata": {}
  },
  {
   "cell_type": "code",
   "execution_count": null,
   "source": [],
   "outputs": [],
   "metadata": {}
  },
  {
   "cell_type": "markdown",
   "source": [
    "## Task\n",
    "How many station has `victoria` line?"
   ],
   "metadata": {}
  },
  {
   "cell_type": "code",
   "execution_count": null,
   "source": [],
   "outputs": [],
   "metadata": {}
  },
  {
   "cell_type": "code",
   "execution_count": null,
   "source": [],
   "outputs": [],
   "metadata": {}
  },
  {
   "cell_type": "markdown",
   "source": [
    "## Task\n",
    "Plan the journey from Heathrow Airport to Tower Bridge using Bus and Tube? Which way is faster? Example output:\n",
    "```\n",
    "Planned duration:\n",
    "Bus: x minutes\n",
    "Tube: y minutes\n",
    "```\n",
    "\n",
    "We need to search the documentation for correct requests and parameters we need."
   ],
   "metadata": {}
  },
  {
   "cell_type": "code",
   "execution_count": null,
   "source": [],
   "outputs": [],
   "metadata": {}
  },
  {
   "cell_type": "code",
   "execution_count": null,
   "source": [],
   "outputs": [],
   "metadata": {}
  },
  {
   "cell_type": "code",
   "execution_count": null,
   "source": [],
   "outputs": [],
   "metadata": {}
  },
  {
   "cell_type": "code",
   "execution_count": null,
   "source": [],
   "outputs": [],
   "metadata": {}
  },
  {
   "cell_type": "code",
   "execution_count": null,
   "source": [],
   "outputs": [],
   "metadata": {}
  }
 ],
 "metadata": {
  "interpreter": {
   "hash": "79faa05e2dc1800474c2bdfc1218bc1d5ab8e508bccf9d704995f444943439c7"
  },
  "kernelspec": {
   "name": "python3",
   "display_name": "Python 3.8.11 64-bit ('bootcampEnv': conda)"
  },
  "language_info": {
   "codemirror_mode": {
    "name": "ipython",
    "version": 3
   },
   "file_extension": ".py",
   "mimetype": "text/x-python",
   "name": "python",
   "nbconvert_exporter": "python",
   "pygments_lexer": "ipython3",
   "version": "3.8.11"
  }
 },
 "nbformat": 4,
 "nbformat_minor": 4
}